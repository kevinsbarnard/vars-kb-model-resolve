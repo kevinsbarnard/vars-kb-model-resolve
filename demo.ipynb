{
 "cells": [
  {
   "cell_type": "markdown",
   "metadata": {},
   "source": [
    "# `vars-kb-model-resolve` demo\n",
    "\n",
    "This notebook is a demonstration of the `vars-kb-model-resolve` workflow. We'll set up a simple model for fish and crabs, then resolve it using MBARI's public KB server ([http://dsg.mbari.org/kb/v1](http://dsg.mbari.org/kb/v1))."
   ]
  },
  {
   "cell_type": "markdown",
   "metadata": {},
   "source": [
    "## 1. Specify\n",
    "\n",
    "First we need to specify our model. We need to define our model's classes, which KB concepts to include in each, and which to exclude.\n",
    "\n",
    "To do this, we'll write a simple JSON blob."
   ]
  },
  {
   "cell_type": "markdown",
   "metadata": {},
   "source": [
    "```json\n",
    "{\n",
    "  \"name\": \"fish_and_crab\",\n",
    "  \"classes\": [\n",
    "    {\n",
    "      \"label\": \"fish\",\n",
    "      \"includes\": [\n",
    "        {\n",
    "          \"concept\": \"Actinopterygii\",\n",
    "          \"include_descendants\": true,\n",
    "          \"part\": \"self\"\n",
    "        }\n",
    "      ],\n",
    "      \"excludes\": []\n",
    "    },\n",
    "    {\n",
    "      \"label\": \"crab\",\n",
    "      \"includes\": [\n",
    "        {\n",
    "          \"concept\": \"Crustacea\",\n",
    "          \"include_descendants\": true,\n",
    "          \"part\": \"self\"\n",
    "        }\n",
    "      ],\n",
    "      \"excludes\": []\n",
    "    }\n",
    "  ]\n",
    "}\n",
    "```"
   ]
  },
  {
   "cell_type": "markdown",
   "metadata": {},
   "source": [
    "This JSON is included verbatim at `data/demo_spec.json`."
   ]
  },
  {
   "cell_type": "markdown",
   "metadata": {},
   "source": [
    "## 2. Resolve\n",
    "\n",
    "Next, we'll run the `resolve.py` script to resolve the model specification to concrete KB concepts."
   ]
  },
  {
   "cell_type": "code",
   "execution_count": null,
   "metadata": {},
   "outputs": [],
   "source": [
    "!python resolve.py -o data/demo_model_kb.json \\\n",
    "    kb \\\n",
    "    --url \"http://dsg.mbari.org/kb/v1\" \\\n",
    "    data/demo_spec.json"
   ]
  },
  {
   "cell_type": "markdown",
   "metadata": {},
   "source": [
    "If all went well above, you should see the generated model file at `data/demo_model.json`."
   ]
  },
  {
   "cell_type": "markdown",
   "metadata": {},
   "source": [
    "We can also resolve using the FathomNet-WoRMS taxonomy provider using the `fathomnet` subcommand. As WoRMS is much larger than the MBARI KB, this will take a few seconds and generate a much larger list of concepts."
   ]
  },
  {
   "cell_type": "code",
   "execution_count": null,
   "metadata": {},
   "outputs": [],
   "source": [
    "!python resolve.py -o data/demo_model_fathomnet.json \\\n",
    "    fathomnet \\\n",
    "    data/demo_spec.json"
   ]
  },
  {
   "cell_type": "markdown",
   "metadata": {},
   "source": [
    "## 3. Inspect\n",
    "\n",
    "Let's print out the model contents using the `print.py` script."
   ]
  },
  {
   "cell_type": "code",
   "execution_count": null,
   "metadata": {},
   "outputs": [],
   "source": [
    "print(\"=== KB Model ===\")\n",
    "!python print.py data/demo_model_kb.json\n",
    "\n",
    "print(\"\\n=== Fathomnet Model ===\")\n",
    "!python print.py data/demo_model_fathomnet.json"
   ]
  },
  {
   "cell_type": "markdown",
   "metadata": {},
   "source": [
    "We can also run a check to make sure we don't have any duplicate concepts between model classes. Let's run the `check.py` script."
   ]
  },
  {
   "cell_type": "code",
   "execution_count": null,
   "metadata": {},
   "outputs": [],
   "source": [
    "print(\"=== KB Model ===\")\n",
    "!python check.py data/demo_model_kb.json\n",
    "\n",
    "print(\"\\n=== FathomNet Model ===\")\n",
    "!python check.py data/demo_model_fathomnet.json"
   ]
  }
 ],
 "metadata": {
  "kernelspec": {
   "display_name": "Python 3.9.13 ('base')",
   "language": "python",
   "name": "python3"
  },
  "language_info": {
   "codemirror_mode": {
    "name": "ipython",
    "version": 3
   },
   "file_extension": ".py",
   "mimetype": "text/x-python",
   "name": "python",
   "nbconvert_exporter": "python",
   "pygments_lexer": "ipython3",
   "version": "3.9.18"
  },
  "orig_nbformat": 4,
  "vscode": {
   "interpreter": {
    "hash": "4313d7bb67ca587305823757e2e191927a0de8985d81b1c40b29fd2724086634"
   }
  }
 },
 "nbformat": 4,
 "nbformat_minor": 2
}
